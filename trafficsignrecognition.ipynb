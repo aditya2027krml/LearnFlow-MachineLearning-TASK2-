{
 "cells": [
  {
   "cell_type": "code",
   "execution_count": null,
   "id": "8af69379-1c1e-4ff7-b047-7b6083a57769",
   "metadata": {},
   "outputs": [],
   "source": [
    "#BY - ADITYA KUMAR\n",
    "#TASK 2 - TRAFFIC SIGN RECOGNITION"
   ]
  },
  {
   "cell_type": "code",
   "execution_count": 3,
   "id": "498a3eb8-3c9e-490b-b378-6f13516448c7",
   "metadata": {},
   "outputs": [],
   "source": [
    "#IMPORT REQUIRED LIBRARIES/MODULES\n",
    "\n",
    "import numpy as np \n",
    "import pandas as pd \n",
    "import matplotlib.pyplot as plt\n",
    "import cv2\n",
    "import tensorflow as tf\n",
    "from PIL import Image\n",
    "import os\n",
    "os.chdir(r\"C:\\Users\\Rishuraj\\OneDrive\\Desktop\\Learn_flow_projects\\recognition_traffic\")\n",
    "from sklearn.model_selection import train_test_split\n",
    "from keras.utils import to_categorical\n",
    "from keras.models import Sequential, load_model\n",
    "from keras.layers import Conv2D, MaxPool2D, Dense, Flatten, Dropout"
   ]
  },
  {
   "cell_type": "code",
   "execution_count": 7,
   "id": "1797dbcd-77ad-473a-8f8f-f2094be6cd89",
   "metadata": {},
   "outputs": [],
   "source": [
    "#STORE DATA LABELS IN LIST\n",
    "\n",
    "data = []\n",
    "labels = []\n",
    "# We have 43 Classes\n",
    "classes = 43\n",
    "cur_path = os.getcwd()"
   ]
  },
  {
   "cell_type": "code",
   "execution_count": 8,
   "id": "89ae5a00-2d71-4233-977a-582a220b7f1e",
   "metadata": {},
   "outputs": [
    {
     "data": {
      "text/plain": [
       "'C:\\\\Users\\\\Rishuraj\\\\OneDrive\\\\Desktop\\\\Learn_flow_projects\\\\recognition_traffic'"
      ]
     },
     "execution_count": 8,
     "metadata": {},
     "output_type": "execute_result"
    }
   ],
   "source": [
    "cur_path"
   ]
  },
  {
   "cell_type": "code",
   "execution_count": 9,
   "id": "eb0860be-f717-48d2-916a-2fb518c1376d",
   "metadata": {},
   "outputs": [],
   "source": [
    "#PREPROCESS THE IMAGE\n",
    "\n",
    "for i in range(classes):\n",
    "    path = os.path.join(cur_path,'train',str(i))\n",
    "    images = os.listdir(path)\n",
    "    for a in images:\n",
    "        try:\n",
    "            image = Image.open(path + '\\\\'+ a)\n",
    "            image = image.resize((30,30))\n",
    "            image = np.array(image)\n",
    "            data.append(image)\n",
    "            labels.append(i)\n",
    "        except Exception as e:\n",
    "            print(e)"
   ]
  },
  {
   "cell_type": "code",
   "execution_count": 10,
   "id": "a6728934-e513-4914-b975-c07bd3099298",
   "metadata": {},
   "outputs": [],
   "source": [
    "#CONVERT LIST INTO THE NUMPY ARRAYS\n",
    "\n",
    "data = np.array(data)\n",
    "labels = np.array(labels)"
   ]
  },
  {
   "cell_type": "code",
   "execution_count": 12,
   "id": "62b66ecb-b39c-4fff-a796-675b6fbededd",
   "metadata": {},
   "outputs": [],
   "source": [
    "#SAVE LABELS AND DATA\n",
    "\n",
    "import os\n",
    "directory = './training'\n",
    "os.makedirs(directory, exist_ok=True)\n",
    "\n",
    "np.save(os.path.join(directory, 'data.npy'), data)\n",
    "np.save(os.path.join(directory, 'target.npy'), labels)\n",
    "\n"
   ]
  },
  {
   "cell_type": "code",
   "execution_count": 14,
   "id": "9ec6c09b-0ca7-4abc-a8b1-0c4005f59cae",
   "metadata": {},
   "outputs": [],
   "source": [
    "#LOAD DATA AND LABELS\n",
    "data=np.load('./training/data.npy')\n",
    "labels=np.load('./training/target.npy')"
   ]
  },
  {
   "cell_type": "code",
   "execution_count": 15,
   "id": "1f6c7edf-bb76-4024-8811-e42e76aa6c54",
   "metadata": {},
   "outputs": [
    {
     "name": "stdout",
     "output_type": "stream",
     "text": [
      "(39209, 30, 30, 3) (39209,)\n"
     ]
    }
   ],
   "source": [
    "print(data.shape, labels.shape)"
   ]
  },
  {
   "cell_type": "code",
   "execution_count": 16,
   "id": "72384fb6-b03e-47e2-a491-4a78a1768675",
   "metadata": {},
   "outputs": [],
   "source": [
    "X_train, X_test, y_train, y_test = train_test_split(data, labels, test_size=0.2, random_state=0)"
   ]
  },
  {
   "cell_type": "code",
   "execution_count": 17,
   "id": "1a5004be-1199-4a86-b109-d68504f2bfc5",
   "metadata": {},
   "outputs": [
    {
     "name": "stdout",
     "output_type": "stream",
     "text": [
      "(31367, 30, 30, 3) (7842, 30, 30, 3) (31367,) (7842,)\n"
     ]
    }
   ],
   "source": [
    "print(X_train.shape, X_test.shape, y_train.shape, y_test.shape)"
   ]
  },
  {
   "cell_type": "code",
   "execution_count": 18,
   "id": "8908056c-0e82-43bd-8f79-64b0db7de629",
   "metadata": {},
   "outputs": [],
   "source": [
    "y_train = to_categorical(y_train, 43)\n",
    "y_test = to_categorical(y_test, 43)"
   ]
  },
  {
   "cell_type": "code",
   "execution_count": 19,
   "id": "bf588a05-5235-4589-9f70-aa1985a1d7c4",
   "metadata": {},
   "outputs": [
    {
     "name": "stdout",
     "output_type": "stream",
     "text": [
      "WARNING:tensorflow:From C:\\Users\\Rishuraj\\AppData\\Local\\Programs\\Python\\Python310\\lib\\site-packages\\keras\\src\\backend.py:873: The name tf.get_default_graph is deprecated. Please use tf.compat.v1.get_default_graph instead.\n",
      "\n",
      "WARNING:tensorflow:From C:\\Users\\Rishuraj\\AppData\\Local\\Programs\\Python\\Python310\\lib\\site-packages\\keras\\src\\layers\\pooling\\max_pooling2d.py:161: The name tf.nn.max_pool is deprecated. Please use tf.nn.max_pool2d instead.\n",
      "\n"
     ]
    }
   ],
   "source": [
    "#OUR MODEL FOR TRAFFIC SIGN DETECTION\n",
    "\n",
    "model = Sequential()\n",
    "model.add(Conv2D(filters=32, kernel_size=(5,5), activation='relu', input_shape=X_train.shape[1:]))\n",
    "model.add(Conv2D(filters=32, kernel_size=(5,5), activation='relu'))\n",
    "model.add(MaxPool2D(pool_size=(2, 2)))\n",
    "model.add(Dropout(rate=0.25))\n",
    "model.add(Conv2D(filters=64, kernel_size=(3, 3), activation='relu'))\n",
    "model.add(Conv2D(filters=64, kernel_size=(3, 3), activation='relu'))\n",
    "model.add(MaxPool2D(pool_size=(2, 2)))\n",
    "model.add(Dropout(rate=0.25))\n",
    "model.add(Flatten())\n",
    "model.add(Dense(256, activation='relu'))\n",
    "model.add(Dropout(rate=0.5))\n",
    "# We have 43 classes that's why we have defined 43 in the dense\n",
    "model.add(Dense(43, activation='softmax'))"
   ]
  },
  {
   "cell_type": "code",
   "execution_count": 20,
   "id": "7fe87c88-a6c8-46e0-9296-0904482ea3ed",
   "metadata": {},
   "outputs": [
    {
     "name": "stdout",
     "output_type": "stream",
     "text": [
      "WARNING:tensorflow:From C:\\Users\\Rishuraj\\AppData\\Local\\Programs\\Python\\Python310\\lib\\site-packages\\keras\\src\\optimizers\\__init__.py:309: The name tf.train.Optimizer is deprecated. Please use tf.compat.v1.train.Optimizer instead.\n",
      "\n"
     ]
    }
   ],
   "source": [
    "#COMPILE THE MODEL\n",
    "model.compile(loss='categorical_crossentropy', optimizer='adam', metrics=['accuracy'])"
   ]
  },
  {
   "cell_type": "code",
   "execution_count": 21,
   "id": "9a7273ee-3efb-4def-aef9-a320035ddaaf",
   "metadata": {},
   "outputs": [
    {
     "name": "stdout",
     "output_type": "stream",
     "text": [
      "Epoch 1/20\n",
      "WARNING:tensorflow:From C:\\Users\\Rishuraj\\AppData\\Local\\Programs\\Python\\Python310\\lib\\site-packages\\keras\\src\\utils\\tf_utils.py:492: The name tf.ragged.RaggedTensorValue is deprecated. Please use tf.compat.v1.ragged.RaggedTensorValue instead.\n",
      "\n",
      "WARNING:tensorflow:From C:\\Users\\Rishuraj\\AppData\\Local\\Programs\\Python\\Python310\\lib\\site-packages\\keras\\src\\engine\\base_layer_utils.py:384: The name tf.executing_eagerly_outside_functions is deprecated. Please use tf.compat.v1.executing_eagerly_outside_functions instead.\n",
      "\n",
      "981/981 [==============================] - 19s 18ms/step - loss: 2.1177 - accuracy: 0.4681 - val_loss: 0.5333 - val_accuracy: 0.8620\n",
      "Epoch 2/20\n",
      "981/981 [==============================] - 19s 20ms/step - loss: 0.6695 - accuracy: 0.8085 - val_loss: 0.3329 - val_accuracy: 0.9061\n",
      "Epoch 3/20\n",
      "981/981 [==============================] - 20s 20ms/step - loss: 0.4323 - accuracy: 0.8760 - val_loss: 0.1427 - val_accuracy: 0.9598\n",
      "Epoch 4/20\n",
      "981/981 [==============================] - 20s 21ms/step - loss: 0.3578 - accuracy: 0.8990 - val_loss: 0.1444 - val_accuracy: 0.9619\n",
      "Epoch 5/20\n",
      "981/981 [==============================] - 20s 20ms/step - loss: 0.2918 - accuracy: 0.9187 - val_loss: 0.2043 - val_accuracy: 0.9462\n",
      "Epoch 6/20\n",
      "981/981 [==============================] - 21s 21ms/step - loss: 0.2847 - accuracy: 0.9228 - val_loss: 0.1052 - val_accuracy: 0.9722\n",
      "Epoch 7/20\n",
      "981/981 [==============================] - 19s 20ms/step - loss: 0.2587 - accuracy: 0.9286 - val_loss: 0.0724 - val_accuracy: 0.9791\n",
      "Epoch 8/20\n",
      "981/981 [==============================] - 19s 20ms/step - loss: 0.2639 - accuracy: 0.9282 - val_loss: 0.0906 - val_accuracy: 0.9742\n",
      "Epoch 9/20\n",
      "981/981 [==============================] - 25s 25ms/step - loss: 0.2614 - accuracy: 0.9314 - val_loss: 0.0553 - val_accuracy: 0.9837\n",
      "Epoch 10/20\n",
      "981/981 [==============================] - 24s 24ms/step - loss: 0.2581 - accuracy: 0.9315 - val_loss: 0.0670 - val_accuracy: 0.9819\n",
      "Epoch 11/20\n",
      "981/981 [==============================] - 20s 21ms/step - loss: 0.2197 - accuracy: 0.9409 - val_loss: 0.1272 - val_accuracy: 0.9626\n",
      "Epoch 12/20\n",
      "981/981 [==============================] - 20s 20ms/step - loss: 0.2270 - accuracy: 0.9416 - val_loss: 0.0660 - val_accuracy: 0.9837\n",
      "Epoch 13/20\n",
      "981/981 [==============================] - 23s 24ms/step - loss: 0.2381 - accuracy: 0.9394 - val_loss: 0.0680 - val_accuracy: 0.9810\n",
      "Epoch 14/20\n",
      "981/981 [==============================] - 21s 21ms/step - loss: 0.2199 - accuracy: 0.9430 - val_loss: 0.0647 - val_accuracy: 0.9864\n",
      "Epoch 15/20\n",
      "981/981 [==============================] - 25s 25ms/step - loss: 0.2424 - accuracy: 0.9392 - val_loss: 0.0672 - val_accuracy: 0.9832\n",
      "Epoch 16/20\n",
      "981/981 [==============================] - 20s 21ms/step - loss: 0.2132 - accuracy: 0.9464 - val_loss: 0.0897 - val_accuracy: 0.9762\n",
      "Epoch 17/20\n",
      "981/981 [==============================] - 23s 23ms/step - loss: 0.2231 - accuracy: 0.9461 - val_loss: 0.0545 - val_accuracy: 0.9871\n",
      "Epoch 18/20\n",
      "981/981 [==============================] - 21s 22ms/step - loss: 0.2378 - accuracy: 0.9427 - val_loss: 0.0591 - val_accuracy: 0.9851\n",
      "Epoch 19/20\n",
      "981/981 [==============================] - 21s 21ms/step - loss: 0.2186 - accuracy: 0.9459 - val_loss: 0.0479 - val_accuracy: 0.9872\n",
      "Epoch 20/20\n",
      "981/981 [==============================] - 21s 21ms/step - loss: 0.2285 - accuracy: 0.9445 - val_loss: 0.0678 - val_accuracy: 0.9791\n"
     ]
    }
   ],
   "source": [
    "epochs = 20\n",
    "history = model.fit(X_train, y_train, batch_size=32, epochs=epochs, validation_data=(X_test, y_test))"
   ]
  },
  {
   "cell_type": "code",
   "execution_count": 22,
   "id": "6cc32cc3-39c2-4042-ba79-655d549ad152",
   "metadata": {},
   "outputs": [
    {
     "data": {
      "image/png": "[encoded data removed]",
      "text/plain": [
       "<Figure size 640x480 with 1 Axes>"
      ]
     },
     "metadata": {},
     "output_type": "display_data"
    }
   ],
   "source": [
    "# ACCURACY OF OUR MODEL \n",
    "plt.figure(0)\n",
    "plt.plot(history.history['accuracy'], label='training accuracy')\n",
    "plt.plot(history.history['val_accuracy'], label='val accuracy')\n",
    "plt.title('Accuracy')\n",
    "plt.xlabel('epochs')\n",
    "plt.ylabel('accuracy')\n",
    "plt.legend()\n",
    "plt.show()"
   ]
  },
  {
   "cell_type": "code",
   "execution_count": 23,
   "id": "2c162991-c8c7-4c1d-b62c-7bd56b524f1f",
   "metadata": {},
   "outputs": [
    {
     "data": {
      "image/png": "[encoded data removed]",
      "text/plain": [
       "<Figure size 640x480 with 1 Axes>"
      ]
     },
     "metadata": {},
     "output_type": "display_data"
    }
   ],
   "source": [
    "# LOSS\n",
    "plt.plot(history.history['loss'], label='training loss')\n",
    "plt.plot(history.history['val_loss'], label='val loss')\n",
    "plt.title('Loss')\n",
    "plt.xlabel('epochs')\n",
    "plt.ylabel('loss')\n",
    "plt.legend()\n",
    "plt.show()"
   ]
  },
  {
   "cell_type": "code",
   "execution_count": 26,
   "id": "a48b0682-6d10-45cc-bc01-207e2041bc0e",
   "metadata": {},
   "outputs": [],
   "source": [
    "#testing on test data"
   ]
  },
  {
   "cell_type": "code",
   "execution_count": 27,
   "id": "3ec531f3-6a6d-4016-b59a-57662e6c807c",
   "metadata": {},
   "outputs": [],
   "source": [
    "def testing(testcsv):\n",
    "    y_test = pd.read_csv(testcsv)\n",
    "    label = y_test[\"ClassId\"].values\n",
    "    imgs = y_test[\"Path\"].values\n",
    "    data=[]\n",
    "    for img in imgs:\n",
    "        image = Image.open(img)\n",
    "        image = image.resize((30,30))\n",
    "        data.append(np.array(image))\n",
    "    X_test=np.array(data)\n",
    "    return X_test,label"
   ]
  },
  {
   "cell_type": "code",
   "execution_count": 28,
   "id": "ea9c8be7-b02d-4f38-a4dc-d2107cd151b0",
   "metadata": {},
   "outputs": [],
   "source": [
    "X_test, label = testing('Test.csv')"
   ]
  },
  {
   "cell_type": "code",
   "execution_count": 29,
   "id": "02aa8aa8-3d58-48c3-a309-0ed1f0c60b81",
   "metadata": {},
   "outputs": [
    {
     "name": "stdout",
     "output_type": "stream",
     "text": [
      "395/395 [==============================] - 2s 6ms/step\n"
     ]
    },
    {
     "data": {
      "text/plain": [
       "array([16,  1, 38, ..., 32,  7, 10], dtype=int64)"
      ]
     },
     "execution_count": 29,
     "metadata": {},
     "output_type": "execute_result"
    }
   ],
   "source": [
    "# Assuming 'model' is your Keras Sequential model\n",
    "Y_pred_probabilities = model.predict(X_test)\n",
    "Y_pred_classes = np.argmax(Y_pred_probabilities, axis=1)\n",
    "\n",
    "# Now 'Y_pred_classes' contains the predicted class labels for each sample\n",
    "Y_pred_classes"
   ]
  },
  {
   "cell_type": "code",
   "execution_count": 30,
   "id": "ed53c94b-c522-4728-bc43-8e858ddbef5f",
   "metadata": {},
   "outputs": [
    {
     "name": "stdout",
     "output_type": "stream",
     "text": [
      "0.952652414885194\n"
     ]
    }
   ],
   "source": [
    "#Accuracy with the test data\n",
    "from sklearn.metrics import accuracy_score\n",
    "print(accuracy_score(label, Y_pred_classes))"
   ]
  },
  {
   "cell_type": "code",
   "execution_count": 37,
   "id": "e92efbcc-c2c1-425b-b558-f630dd8198dd",
   "metadata": {},
   "outputs": [],
   "source": [
    "model.save(\"./training/TSR.h5\")"
   ]
  },
  {
   "cell_type": "code",
   "execution_count": 38,
   "id": "56dbdff4-ad3c-4c3c-b66a-5d9a325b5c36",
   "metadata": {},
   "outputs": [],
   "source": [
    "def image_processing(img):\n",
    "    model = load_model('./model/traffic_classifier.h5')\n",
    "    image = Image.open(img)\n",
    "    image = image.resize((30,30))\n",
    "    image = np.expand_dims(image, axis=0)\n",
    "    image = np.array(image)\n",
    "    predict_x=model.predict(image)\n",
    "    classes_x=np.argmax(predict_x,axis=1)\n",
    "    sign = classes[int(classes_x)]\n",
    "    return sign     #return index of classes"
   ]
  },
  {
   "cell_type": "code",
   "execution_count": 39,
   "id": "bd7e7959-edbb-4884-9bb2-f2efc90525b6",
   "metadata": {},
   "outputs": [],
   "source": [
    "# Classes of trafic signs\n",
    "classes = { 0:'Speed limit (20km/h)',\n",
    "            1:'Speed limit (30km/h)', \n",
    "            2:'Speed limit (50km/h)', \n",
    "            3:'Speed limit (60km/h)', \n",
    "            4:'Speed limit (70km/h)', \n",
    "            5:'Speed limit (80km/h)', \n",
    "            6:'End of speed limit (80km/h)', \n",
    "            7:'Speed limit (100km/h)', \n",
    "            8:'Speed limit (120km/h)', \n",
    "            9:'No passing', \n",
    "            10:'No passing veh over 3.5 tons', \n",
    "            11:'Right-of-way at intersection', \n",
    "            12:'Priority road', \n",
    "            13:'Yield', \n",
    "            14:'Stop', \n",
    "            15:'No vehicles', \n",
    "            16:'Veh > 3.5 tons prohibited', \n",
    "            17:'No entry', \n",
    "            18:'General caution', \n",
    "            19:'Dangerous curve left', \n",
    "            20:'Dangerous curve right', \n",
    "            21:'Double curve', \n",
    "            22:'Bumpy road', \n",
    "            23:'Slippery road', \n",
    "            24:'Road narrows on the right', \n",
    "            25:'Road work',  \n",
    "            26:'Traffic signals', \n",
    "            27:'Pedestrians', \n",
    "            28:'Children crossing', \n",
    "            29:'Bicycles crossing', \n",
    "            30:'Beware of ice/snow',\n",
    "            31:'Wild animals crossing', \n",
    "            32:'End speed + passing limits', \n",
    "            33:'Turn right ahead', \n",
    "            34:'Turn left ahead', \n",
    "            35:'Ahead only', \n",
    "            36:'Go straight or right', \n",
    "            37:'Go straight or left', \n",
    "            38:'Keep right', \n",
    "            39:'Keep left', \n",
    "            40:'Roundabout mandatory', \n",
    "            41:'End of no passing', \n",
    "            42:'End no passing veh > 3.5 tons' }"
   ]
  },
  {
   "cell_type": "code",
   "execution_count": 40,
   "id": "c5352924-4468-4979-99da-300130471195",
   "metadata": {},
   "outputs": [],
   "source": [
    "from PIL import Image\n",
    "import numpy as np\n",
    "import matplotlib.pyplot as plt\n",
    "def test_on_img(img):\n",
    "    data=[]\n",
    "    image = Image.open(img)\n",
    "    image = image.resize((30,30))\n",
    "    data.append(np.array(image))\n",
    "    X_test=np.array(data)\n",
    "    Y_pred = model.predict_classes(X_test)\n",
    "    return image,Y_pred"
   ]
  },
  {
   "cell_type": "code",
   "execution_count": 42,
   "id": "a4798f0d-85a0-45c8-92a2-358b961724b0",
   "metadata": {},
   "outputs": [
    {
     "name": "stdout",
     "output_type": "stream",
     "text": [
      "1/1 [==============================] - 0s 27ms/step\n"
     ]
    },
    {
     "data": {
      "image/png": "[encoded data removed]",
      "text/plain": [
       "<Figure size 640x480 with 1 Axes>"
      ]
     },
     "metadata": {},
     "output_type": "display_data"
    }
   ],
   "source": [
    "import matplotlib.pyplot as plt\n",
    "\n",
    "def test_on_img(img_path):\n",
    "    data = []\n",
    "    if os.path.exists(img_path):\n",
    "        try:\n",
    "            if img_path.endswith('.npy'):\n",
    "                # Handle loading images from a NumPy file\n",
    "                data = np.load(img_path)\n",
    "            else:\n",
    "                # Handle loading a single image\n",
    "                image = Image.open(img_path)\n",
    "                image = image.resize((30, 30))\n",
    "                data.append(np.array(image))\n",
    "                \n",
    "            X_test = np.array(data)\n",
    "            Y_pred_probabilities = model.predict(X_test)\n",
    "            Y_pred_classes = np.argmax(Y_pred_probabilities, axis=1)\n",
    "            \n",
    "            return image, Y_pred_classes\n",
    "        except Exception as e:\n",
    "            print(f\"Error processing image: {e}\")\n",
    "            return None, None\n",
    "    else:\n",
    "        print(f\"Error: File not found at path: {img_path}\")\n",
    "        return None, None\n",
    "\n",
    "# Example usage\n",
    "image, prediction = test_on_img(r\"C:\\Users\\Rishuraj\\OneDrive\\Desktop\\Learn_flow_projects\\recognition_traffic\\Test\\00006.png\")\n",
    "if image is not None and prediction is not None:\n",
    "    plt.imshow(image)\n",
    "    plt.title(f\"Predicted Class: {prediction[0]}\")  # Assuming you're interested in the first prediction\n",
    "    plt.axis('off')\n",
    "    plt.show()\n",
    "else:\n",
    "    print(\"Image data or prediction is not available.\")\n"
   ]
  },
  {
   "cell_type": "code",
   "execution_count": 45,
   "id": "a557c82c-8136-4e59-8569-fd6bf574c089",
   "metadata": {},
   "outputs": [
    {
     "name": "stdout",
     "output_type": "stream",
     "text": [
      "1/1 [==============================] - 0s 26ms/step\n"
     ]
    },
    {
     "data": {
      "image/png": "[encoded data removed]",
      "text/plain": [
       "<Figure size 640x480 with 1 Axes>"
      ]
     },
     "metadata": {},
     "output_type": "display_data"
    }
   ],
   "source": [
    "import matplotlib.pyplot as plt\n",
    "def test_on_img(img_path):\n",
    "    data = []\n",
    "    if os.path.exists(img_path):\n",
    "        try:\n",
    "            if img_path.endswith('.npy'):\n",
    "                # Handle loading images from a NumPy file\n",
    "                data = np.load(img_path)\n",
    "            else:\n",
    "                # Handle loading a single image\n",
    "                image = Image.open(img_path)\n",
    "                image = image.resize((30, 30))\n",
    "                data.append(np.array(image))\n",
    "                \n",
    "            X_test = np.array(data)\n",
    "            Y_pred_probabilities = model.predict(X_test)\n",
    "            Y_pred_classes = np.argmax(Y_pred_probabilities, axis=1)\n",
    "            \n",
    "            return image, Y_pred_classes\n",
    "        except Exception as e:\n",
    "            print(f\"Error processing image: {e}\")\n",
    "            return None, None\n",
    "    else:\n",
    "        print(f\"Error: File not found at path: {img_path}\")\n",
    "        return None, None\n",
    "\n",
    "# Example usage\n",
    "image, prediction = test_on_imgimage, prediction = test_on_img(r\"C:\\Users\\Rishuraj\\OneDrive\\Desktop\\Learn_flow_projects\\recognition_traffic\\Test\\00006.png\")\n",
    "if image is not None and prediction is not None:\n",
    "    predicted_class_index = prediction[0]  # Assuming you're interested in the first prediction\n",
    "    predicted_class_name = classes.get(predicted_class_index, 'Unknown Class')\n",
    "    \n",
    "    plt.imshow(image)\n",
    "    plt.title(f\"Predicted Class: {predicted_class_name}\")\n",
    "    plt.axis('off')\n",
    "    plt.show()\n",
    "else:\n",
    "    print(\"Image data or prediction is not available.\")\n"
   ]
  },
  {
   "cell_type": "code",
   "execution_count": 51,
   "id": "b69599fc-779b-4e13-b9bd-1d406248a858",
   "metadata": {},
   "outputs": [],
   "source": [
    "from keras.models import save_model\n",
    "\n",
    "# Assuming 'face_recognition' is your trained model\n",
    "save_model(model, 'trafficsign_recognition.keras', save_format='tf')"
   ]
  },
  {
   "cell_type": "code",
   "execution_count": 53,
   "id": "bc2f10e8-2617-41e3-810e-e82332f6a39c",
   "metadata": {},
   "outputs": [],
   "source": [
    "model = tf.keras.models.load_model('trafficsign_recognition.keras')"
   ]
  },
  {
   "cell_type": "code",
   "execution_count": 54,
   "id": "b2072599-3296-46f9-897a-fff6b695e5d1",
   "metadata": {},
   "outputs": [
    {
     "name": "stdout",
     "output_type": "stream",
     "text": [
      "['.ipynb_checkpoints', 'apppppp.py', 'apppppp_files', 'archive (1).zip', 'Meta', 'Meta.csv', 'Test', 'Test.csv', 'trafficsignrecognition.ipynb', 'trafficsign_recognition.keras', 'Traffic_app.py', 'Train', 'Train.csv', 'training']\n"
     ]
    }
   ],
   "source": [
    "import os\n",
    "print(os.listdir(r'C:\\Users\\Rishuraj\\OneDrive\\Desktop\\Learn_flow_projects\\recognition_traffic'))\n"
   ]
  },
  {
   "cell_type": "code",
   "execution_count": null,
   "id": "d5cd9dd8-39cc-429c-9421-2401aa394cac",
   "metadata": {},
   "outputs": [],
   "source": []
  }
 ],
 "metadata": {
  "kernelspec": {
   "display_name": "Python 3 (ipykernel)",
   "language": "python",
   "name": "python3"
  },
  "language_info": {
   "codemirror_mode": {
    "name": "ipython",
    "version": 3
   },
   "file_extension": ".py",
   "mimetype": "text/x-python",
   "name": "python",
   "nbconvert_exporter": "python",
   "pygments_lexer": "ipython3",
   "version": "3.10.0"
  }
 },
 "nbformat": 4,
 "nbformat_minor": 5
}
